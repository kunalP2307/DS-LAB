{
  "nbformat": 4,
  "nbformat_minor": 0,
  "metadata": {
    "colab": {
      "provenance": []
    },
    "kernelspec": {
      "name": "python3",
      "display_name": "Python 3"
    },
    "language_info": {
      "name": "python"
    }
  },
  "cells": [
    {
      "cell_type": "markdown",
      "source": [
        "# New section"
      ],
      "metadata": {
        "id": "vkxQ9x-4JYj6"
      }
    },
    {
      "cell_type": "code",
      "source": [],
      "metadata": {
        "id": "dFRPkOWrJa9I"
      },
      "execution_count": null,
      "outputs": []
    },
    {
      "cell_type": "markdown",
      "source": [],
      "metadata": {
        "id": "XBVVdqpiJbIa"
      }
    },
    {
      "cell_type": "code",
      "source": [
        "import array as arr\n",
        "import random\n",
        "import numpy as np\n",
        "import statistics\n",
        "import math "
      ],
      "metadata": {
        "id": "4mzy0codbzgJ"
      },
      "execution_count": null,
      "outputs": []
    },
    {
      "cell_type": "code",
      "source": [
        "def get_random_data():\n",
        "\n",
        "  data = arr.array('i')\n",
        "  for i in range(16):\n",
        "    rand_num = random.randint(10,20)\n",
        "    data.append(rand_num)\n",
        "\n",
        "  #Adding Outliers\n",
        "  data.append(random.randint(90,100))\n",
        "  data.append(random.randint(90,100))\n",
        "\n",
        "  data.append(random.randint(-100,-10))\n",
        "  data.append(random.randint(-100,-10))\n",
        "  np.random.shuffle(data)\n",
        "  \n",
        "  return data"
      ],
      "metadata": {
        "id": "o34lQ8yskHO2"
      },
      "execution_count": null,
      "outputs": []
    },
    {
      "cell_type": "code",
      "execution_count": null,
      "metadata": {
        "id": "7-KiS8maawsJ"
      },
      "outputs": [],
      "source": [
        "def get_mean(data):\n",
        "  sum = 0\n",
        "\n",
        "  for element in data:\n",
        "    sum += element\n",
        "\n",
        "  return sum/len(data)"
      ]
    },
    {
      "cell_type": "code",
      "source": [
        "def get_median(data):\n",
        "  data = np.sort(data)\n",
        "\n",
        "  if len(data) % 2 == 0:\n",
        "    index = int(len(data) / 2)\n",
        "    median = (data[index] + data[index - 1]) / 2\n",
        "  else:\n",
        "    median = data[round(len(data) / 2)]\n",
        "\n",
        "  return median"
      ],
      "metadata": {
        "id": "FZVqrobicgSS"
      },
      "execution_count": null,
      "outputs": []
    },
    {
      "cell_type": "code",
      "source": [
        "def get_mode(data):\n",
        "  frequency_dict = {}\n",
        "\n",
        "  for element in data:\n",
        "    if element not in frequency_dict:\n",
        "      frequency_dict[element] = 1\n",
        "    else:\n",
        "      frequency_dict[element] += 1\n",
        "\n",
        "  frequencies = list(frequency_dict.values())\n",
        "  elements = list(frequency_dict.keys())\n",
        "\n",
        "  return elements[frequencies.index(max(frequencies))]\n"
      ],
      "metadata": {
        "id": "XALxae_nd7R5"
      },
      "execution_count": null,
      "outputs": []
    },
    {
      "cell_type": "code",
      "source": [
        "def get_std(data):\n",
        "  summation = 0\n",
        "  mean = get_mean(data)\n",
        "\n",
        "  for element in data:\n",
        "    summation += (element - mean) * (element - mean)\n",
        "     \n",
        "  return math.sqrt(summation / (len(data) - 1))"
      ],
      "metadata": {
        "id": "DAmPaQwdfxc8"
      },
      "execution_count": null,
      "outputs": []
    },
    {
      "cell_type": "code",
      "source": [
        "def get_min(data):\n",
        "  min = data[0]\n",
        "  for element in data:\n",
        "    if min > element:\n",
        "      min = element\n",
        "  \n",
        "  return min"
      ],
      "metadata": {
        "id": "DRdfVcSslK5u"
      },
      "execution_count": null,
      "outputs": []
    },
    {
      "cell_type": "code",
      "source": [
        "def get_max(data):\n",
        "  max = data[0]\n",
        "  for element in data:\n",
        "    if max < element:\n",
        "      max = element\n",
        "  \n",
        "  return max"
      ],
      "metadata": {
        "id": "SsA74uugm0ks"
      },
      "execution_count": null,
      "outputs": []
    },
    {
      "cell_type": "code",
      "source": [
        "data = get_random_data()\n",
        "print(\"\\t\", \"Without Library\", \"\\t\", \"With Library\")\n",
        "print(\"Mean\\t\", get_mean(data), \"\\t\\t\\t\", statistics.mean(data))\n",
        "print(\"Median\\t\", get_median(data), \"\\t\\t\\t\", statistics.median(data))\n",
        "print(\"Mode\\t\", get_mode(data), \"\\t\\t\\t\", statistics.mode(data))\n",
        "print(\"Std\\t\", \"{0:.3f}\".format(get_std(data)), \"\\t\\t\\t\", \"{0:.3f}\".format(statistics.stdev(data)))\n",
        "print(\"Min\\t\", get_min(data), \"\\t\\t\\t\", min(data))\n",
        "print(\"Max\\t\", get_max(data), \"\\t\\t\\t\", max(data))\n"
      ],
      "metadata": {
        "colab": {
          "base_uri": "https://localhost:8080/"
        },
        "id": "VFtrnCLonBGm",
        "outputId": "9ecaf43e-7b3d-42a6-ba78-8b72eeb18d05"
      },
      "execution_count": null,
      "outputs": [
        {
          "output_type": "stream",
          "name": "stdout",
          "text": [
            "\t Without Library \t With Library\n",
            "Mean\t 16.45 \t\t\t 16.45\n",
            "Median\t 13.0 \t\t\t 13.0\n",
            "Mode\t 10 \t\t\t 10\n",
            "Std\t 34.715 \t\t\t 34.715\n",
            "Min\t -63 \t\t\t -63\n",
            "Max\t 99 \t\t\t 99\n"
          ]
        },
        {
          "output_type": "stream",
          "name": "stderr",
          "text": [
            "<ipython-input-52-f7512206f573>:14: UserWarning: you are shuffling a 'array' object which is not a subclass of 'Sequence'; `shuffle` is not guaranteed to behave correctly. E.g., non-numpy array/tensor objects with view semantics may contain duplicates after shuffling.\n",
            "  np.random.shuffle(data)\n"
          ]
        }
      ]
    }
  ]
}