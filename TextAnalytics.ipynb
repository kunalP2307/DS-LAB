{
  "nbformat": 4,
  "nbformat_minor": 0,
  "metadata": {
    "colab": {
      "provenance": []
    },
    "kernelspec": {
      "name": "python3",
      "display_name": "Python 3"
    },
    "language_info": {
      "name": "python"
    }
  },
  "cells": [
    {
      "cell_type": "code",
      "execution_count": null,
      "metadata": {
        "colab": {
          "base_uri": "https://localhost:8080/"
        },
        "id": "7rUqD2xfDpwB",
        "outputId": "da62ec78-b6e6-44ee-b15d-c635aa5e82d6"
      },
      "outputs": [
        {
          "output_type": "stream",
          "name": "stderr",
          "text": [
            "[nltk_data] Downloading package punkt to /root/nltk_data...\n",
            "[nltk_data]   Package punkt is already up-to-date!\n"
          ]
        },
        {
          "output_type": "execute_result",
          "data": {
            "text/plain": [
              "True"
            ]
          },
          "metadata": {},
          "execution_count": 252
        }
      ],
      "source": [
        "import nltk\n",
        "import re\n",
        "nltk.download('punkt')"
      ]
    },
    {
      "cell_type": "code",
      "source": [
        "text = \"Here’s to the crazy ones, the misfits, the rebels, the troublemakers, the round pegs in the square holes. The ones who see things differently — they’re not fond of rules. You can quote them, disagree with them, glorify or vilify them, but the only thing you can’t do is ignore them because they change things. They push the human race forward, and while some may see them as the crazy ones, we see genius, because the ones who are crazy enough to think that they can change the world, are the ones who do.\""
      ],
      "metadata": {
        "id": "Uau3p3d9D-0F"
      },
      "execution_count": null,
      "outputs": []
    },
    {
      "cell_type": "markdown",
      "source": [
        "#Tokenization\n"
      ],
      "metadata": {
        "id": "8inYmTcuE5cO"
      }
    },
    {
      "cell_type": "code",
      "source": [
        "from nltk.tokenize import word_tokenize\n",
        "from nltk.tokenize import sent_tokenize"
      ],
      "metadata": {
        "id": "iYb9gtZmCSCU"
      },
      "execution_count": null,
      "outputs": []
    },
    {
      "cell_type": "code",
      "source": [
        "word_tokenized = word_tokenize(text)\n",
        "word_tokenized"
      ],
      "metadata": {
        "colab": {
          "base_uri": "https://localhost:8080/"
        },
        "id": "yAsqbT8EFB2k",
        "outputId": "3c7d7218-1edd-47c5-f366-abe64a1f7567"
      },
      "execution_count": null,
      "outputs": [
        {
          "output_type": "execute_result",
          "data": {
            "text/plain": [
              "['Here',\n",
              " '’',\n",
              " 's',\n",
              " 'to',\n",
              " 'the',\n",
              " 'crazy',\n",
              " 'ones',\n",
              " ',',\n",
              " 'the',\n",
              " 'misfits',\n",
              " ',',\n",
              " 'the',\n",
              " 'rebels',\n",
              " ',',\n",
              " 'the',\n",
              " 'troublemakers',\n",
              " ',',\n",
              " 'the',\n",
              " 'round',\n",
              " 'pegs',\n",
              " 'in',\n",
              " 'the',\n",
              " 'square',\n",
              " 'holes',\n",
              " '.',\n",
              " 'The',\n",
              " 'ones',\n",
              " 'who',\n",
              " 'see',\n",
              " 'things',\n",
              " 'differently',\n",
              " '—',\n",
              " 'they',\n",
              " '’',\n",
              " 're',\n",
              " 'not',\n",
              " 'fond',\n",
              " 'of',\n",
              " 'rules',\n",
              " '.',\n",
              " 'You',\n",
              " 'can',\n",
              " 'quote',\n",
              " 'them',\n",
              " ',',\n",
              " 'disagree',\n",
              " 'with',\n",
              " 'them',\n",
              " ',',\n",
              " 'glorify',\n",
              " 'or',\n",
              " 'vilify',\n",
              " 'them',\n",
              " ',',\n",
              " 'but',\n",
              " 'the',\n",
              " 'only',\n",
              " 'thing',\n",
              " 'you',\n",
              " 'can',\n",
              " '’',\n",
              " 't',\n",
              " 'do',\n",
              " 'is',\n",
              " 'ignore',\n",
              " 'them',\n",
              " 'because',\n",
              " 'they',\n",
              " 'change',\n",
              " 'things',\n",
              " '.',\n",
              " 'They',\n",
              " 'push',\n",
              " 'the',\n",
              " 'human',\n",
              " 'race',\n",
              " 'forward',\n",
              " ',',\n",
              " 'and',\n",
              " 'while',\n",
              " 'some',\n",
              " 'may',\n",
              " 'see',\n",
              " 'them',\n",
              " 'as',\n",
              " 'the',\n",
              " 'crazy',\n",
              " 'ones',\n",
              " ',',\n",
              " 'we',\n",
              " 'see',\n",
              " 'genius',\n",
              " ',',\n",
              " 'because',\n",
              " 'the',\n",
              " 'ones',\n",
              " 'who',\n",
              " 'are',\n",
              " 'crazy',\n",
              " 'enough',\n",
              " 'to',\n",
              " 'think',\n",
              " 'that',\n",
              " 'they',\n",
              " 'can',\n",
              " 'change',\n",
              " 'the',\n",
              " 'world',\n",
              " ',',\n",
              " 'are',\n",
              " 'the',\n",
              " 'ones',\n",
              " 'who',\n",
              " 'do',\n",
              " '.']"
            ]
          },
          "metadata": {},
          "execution_count": 255
        }
      ]
    },
    {
      "cell_type": "code",
      "source": [
        "tokenized_sents = sent_tokenize(text)\n",
        "tokenized_sents"
      ],
      "metadata": {
        "colab": {
          "base_uri": "https://localhost:8080/"
        },
        "id": "XlNsdfQNFykR",
        "outputId": "99ab21da-fef6-4edb-98c5-44289b814f76"
      },
      "execution_count": null,
      "outputs": [
        {
          "output_type": "execute_result",
          "data": {
            "text/plain": [
              "['Here’s to the crazy ones, the misfits, the rebels, the troublemakers, the round pegs in the square holes.',\n",
              " 'The ones who see things differently — they’re not fond of rules.',\n",
              " 'You can quote them, disagree with them, glorify or vilify them, but the only thing you can’t do is ignore them because they change things.',\n",
              " 'They push the human race forward, and while some may see them as the crazy ones, we see genius, because the ones who are crazy enough to think that they can change the world, are the ones who do.']"
            ]
          },
          "metadata": {},
          "execution_count": 256
        }
      ]
    },
    {
      "cell_type": "markdown",
      "source": [
        "#Removing Stopwords"
      ],
      "metadata": {
        "id": "VYjrqnKX0kdx"
      }
    },
    {
      "cell_type": "code",
      "source": [
        "from nltk.corpus import stopwords\n",
        "\n",
        "nltk.download('stopwords')\n",
        "stop_words = stopwords.words('english')"
      ],
      "metadata": {
        "colab": {
          "base_uri": "https://localhost:8080/"
        },
        "id": "I95rzgyhF_EY",
        "outputId": "f7841cf3-ad8c-4759-f513-8b7f8a960497"
      },
      "execution_count": null,
      "outputs": [
        {
          "output_type": "stream",
          "name": "stderr",
          "text": [
            "[nltk_data] Downloading package stopwords to /root/nltk_data...\n",
            "[nltk_data]   Package stopwords is already up-to-date!\n"
          ]
        }
      ]
    },
    {
      "cell_type": "code",
      "source": [
        "text = re.sub('[^a-zA-Z0-9 \\n\\.]', '', text)"
      ],
      "metadata": {
        "id": "dKLzx0be0Fvl"
      },
      "execution_count": null,
      "outputs": []
    },
    {
      "cell_type": "code",
      "source": [
        "text"
      ],
      "metadata": {
        "colab": {
          "base_uri": "https://localhost:8080/",
          "height": 90
        },
        "id": "OdRmaIrj9dFB",
        "outputId": "acbb444b-9111-478e-d15a-ce57e2cd3981"
      },
      "execution_count": null,
      "outputs": [
        {
          "output_type": "execute_result",
          "data": {
            "text/plain": [
              "'Heres to the crazy ones the misfits the rebels the troublemakers the round pegs in the square holes. The ones who see things differently  theyre not fond of rules. You can quote them disagree with them glorify or vilify them but the only thing you cant do is ignore them because they change things. They push the human race forward and while some may see them as the crazy ones we see genius because the ones who are crazy enough to think that they can change the world are the ones who do.'"
            ],
            "application/vnd.google.colaboratory.intrinsic+json": {
              "type": "string"
            }
          },
          "metadata": {},
          "execution_count": 259
        }
      ]
    },
    {
      "cell_type": "code",
      "source": [
        "tokenized_words = word_tokenize(text.lower())"
      ],
      "metadata": {
        "id": "R1FBgBsS9oDq"
      },
      "execution_count": null,
      "outputs": []
    },
    {
      "cell_type": "code",
      "source": [
        "tokenized_words"
      ],
      "metadata": {
        "id": "_ben_fQN97Up",
        "colab": {
          "base_uri": "https://localhost:8080/"
        },
        "outputId": "3f26c94d-16f6-4b7f-b6df-e23d3aad4b09"
      },
      "execution_count": null,
      "outputs": [
        {
          "output_type": "execute_result",
          "data": {
            "text/plain": [
              "['heres',\n",
              " 'to',\n",
              " 'the',\n",
              " 'crazy',\n",
              " 'ones',\n",
              " 'the',\n",
              " 'misfits',\n",
              " 'the',\n",
              " 'rebels',\n",
              " 'the',\n",
              " 'troublemakers',\n",
              " 'the',\n",
              " 'round',\n",
              " 'pegs',\n",
              " 'in',\n",
              " 'the',\n",
              " 'square',\n",
              " 'holes',\n",
              " '.',\n",
              " 'the',\n",
              " 'ones',\n",
              " 'who',\n",
              " 'see',\n",
              " 'things',\n",
              " 'differently',\n",
              " 'theyre',\n",
              " 'not',\n",
              " 'fond',\n",
              " 'of',\n",
              " 'rules',\n",
              " '.',\n",
              " 'you',\n",
              " 'can',\n",
              " 'quote',\n",
              " 'them',\n",
              " 'disagree',\n",
              " 'with',\n",
              " 'them',\n",
              " 'glorify',\n",
              " 'or',\n",
              " 'vilify',\n",
              " 'them',\n",
              " 'but',\n",
              " 'the',\n",
              " 'only',\n",
              " 'thing',\n",
              " 'you',\n",
              " 'cant',\n",
              " 'do',\n",
              " 'is',\n",
              " 'ignore',\n",
              " 'them',\n",
              " 'because',\n",
              " 'they',\n",
              " 'change',\n",
              " 'things',\n",
              " '.',\n",
              " 'they',\n",
              " 'push',\n",
              " 'the',\n",
              " 'human',\n",
              " 'race',\n",
              " 'forward',\n",
              " 'and',\n",
              " 'while',\n",
              " 'some',\n",
              " 'may',\n",
              " 'see',\n",
              " 'them',\n",
              " 'as',\n",
              " 'the',\n",
              " 'crazy',\n",
              " 'ones',\n",
              " 'we',\n",
              " 'see',\n",
              " 'genius',\n",
              " 'because',\n",
              " 'the',\n",
              " 'ones',\n",
              " 'who',\n",
              " 'are',\n",
              " 'crazy',\n",
              " 'enough',\n",
              " 'to',\n",
              " 'think',\n",
              " 'that',\n",
              " 'they',\n",
              " 'can',\n",
              " 'change',\n",
              " 'the',\n",
              " 'world',\n",
              " 'are',\n",
              " 'the',\n",
              " 'ones',\n",
              " 'who',\n",
              " 'do',\n",
              " '.']"
            ]
          },
          "metadata": {},
          "execution_count": 261
        }
      ]
    },
    {
      "cell_type": "code",
      "source": [
        "filtered_text = []\n",
        "\n",
        "for word in tokenized_words:\n",
        "  if word not in stop_words:\n",
        "    filtered_text.append(word)"
      ],
      "metadata": {
        "id": "JWowHxpE_-cR"
      },
      "execution_count": null,
      "outputs": []
    },
    {
      "cell_type": "code",
      "source": [
        "print(\"Tokens Before Removing Stopwords\", tokenized_words)\n",
        "print(\"Tokens After Removing Stopwords\", filtered_text)"
      ],
      "metadata": {
        "colab": {
          "base_uri": "https://localhost:8080/"
        },
        "id": "1kWL7O3YArXJ",
        "outputId": "6fe0992c-4deb-4762-d4f3-dd309af4a3bd"
      },
      "execution_count": null,
      "outputs": [
        {
          "output_type": "stream",
          "name": "stdout",
          "text": [
            "Tokens Before Removing Stopwords ['heres', 'to', 'the', 'crazy', 'ones', 'the', 'misfits', 'the', 'rebels', 'the', 'troublemakers', 'the', 'round', 'pegs', 'in', 'the', 'square', 'holes', '.', 'the', 'ones', 'who', 'see', 'things', 'differently', 'theyre', 'not', 'fond', 'of', 'rules', '.', 'you', 'can', 'quote', 'them', 'disagree', 'with', 'them', 'glorify', 'or', 'vilify', 'them', 'but', 'the', 'only', 'thing', 'you', 'cant', 'do', 'is', 'ignore', 'them', 'because', 'they', 'change', 'things', '.', 'they', 'push', 'the', 'human', 'race', 'forward', 'and', 'while', 'some', 'may', 'see', 'them', 'as', 'the', 'crazy', 'ones', 'we', 'see', 'genius', 'because', 'the', 'ones', 'who', 'are', 'crazy', 'enough', 'to', 'think', 'that', 'they', 'can', 'change', 'the', 'world', 'are', 'the', 'ones', 'who', 'do', '.']\n",
            "Tokens After Removing Stopwords ['heres', 'crazy', 'ones', 'misfits', 'rebels', 'troublemakers', 'round', 'pegs', 'square', 'holes', '.', 'ones', 'see', 'things', 'differently', 'theyre', 'fond', 'rules', '.', 'quote', 'disagree', 'glorify', 'vilify', 'thing', 'cant', 'ignore', 'change', 'things', '.', 'push', 'human', 'race', 'forward', 'may', 'see', 'crazy', 'ones', 'see', 'genius', 'ones', 'crazy', 'enough', 'think', 'change', 'world', 'ones', '.']\n"
          ]
        }
      ]
    },
    {
      "cell_type": "markdown",
      "source": [
        "#Stemming"
      ],
      "metadata": {
        "id": "Nyw-otzvBVJm"
      }
    },
    {
      "cell_type": "code",
      "source": [
        "from nltk.stem import PorterStemmer\n",
        "from nltk.tokenize import word_tokenize"
      ],
      "metadata": {
        "id": "rl7fzGngA6a3"
      },
      "execution_count": null,
      "outputs": []
    },
    {
      "cell_type": "code",
      "source": [
        "ps = PorterStemmer()\n",
        "\n",
        "for word in filtered_text:\n",
        "  print(word, ' : ', ps.stem(word))"
      ],
      "metadata": {
        "id": "B5vtj_YXFHrz",
        "colab": {
          "base_uri": "https://localhost:8080/"
        },
        "outputId": "860ef60d-02c3-4789-99d2-c965b8d65936"
      },
      "execution_count": null,
      "outputs": [
        {
          "output_type": "stream",
          "name": "stdout",
          "text": [
            "heres  :  here\n",
            "crazy  :  crazi\n",
            "ones  :  one\n",
            "misfits  :  misfit\n",
            "rebels  :  rebel\n",
            "troublemakers  :  troublemak\n",
            "round  :  round\n",
            "pegs  :  peg\n",
            "square  :  squar\n",
            "holes  :  hole\n",
            ".  :  .\n",
            "ones  :  one\n",
            "see  :  see\n",
            "things  :  thing\n",
            "differently  :  differ\n",
            "theyre  :  theyr\n",
            "fond  :  fond\n",
            "rules  :  rule\n",
            ".  :  .\n",
            "quote  :  quot\n",
            "disagree  :  disagre\n",
            "glorify  :  glorifi\n",
            "vilify  :  vilifi\n",
            "thing  :  thing\n",
            "cant  :  cant\n",
            "ignore  :  ignor\n",
            "change  :  chang\n",
            "things  :  thing\n",
            ".  :  .\n",
            "push  :  push\n",
            "human  :  human\n",
            "race  :  race\n",
            "forward  :  forward\n",
            "may  :  may\n",
            "see  :  see\n",
            "crazy  :  crazi\n",
            "ones  :  one\n",
            "see  :  see\n",
            "genius  :  geniu\n",
            "ones  :  one\n",
            "crazy  :  crazi\n",
            "enough  :  enough\n",
            "think  :  think\n",
            "change  :  chang\n",
            "world  :  world\n",
            "ones  :  one\n",
            ".  :  .\n"
          ]
        }
      ]
    },
    {
      "cell_type": "markdown",
      "source": [
        "#Lemmatization"
      ],
      "metadata": {
        "id": "4LDYi5jQCBoB"
      }
    },
    {
      "cell_type": "code",
      "source": [
        "from nltk.stem import WordNetLemmatizer\n",
        "nltk.download('wordnet')\n"
      ],
      "metadata": {
        "colab": {
          "base_uri": "https://localhost:8080/"
        },
        "id": "QEq2-QpHChdE",
        "outputId": "604a854d-d8e6-4a55-fd06-be3671b1814f"
      },
      "execution_count": null,
      "outputs": [
        {
          "output_type": "stream",
          "name": "stderr",
          "text": [
            "[nltk_data] Downloading package wordnet to /root/nltk_data...\n",
            "[nltk_data]   Package wordnet is already up-to-date!\n"
          ]
        },
        {
          "output_type": "execute_result",
          "data": {
            "text/plain": [
              "True"
            ]
          },
          "metadata": {},
          "execution_count": 266
        }
      ]
    },
    {
      "cell_type": "code",
      "source": [
        "lemmatizer = WordNetLemmatizer()\n",
        "\n",
        "for word in filtered_text:\n",
        "  print(word , ' : ', lemmatizer.lemmatize(word))"
      ],
      "metadata": {
        "colab": {
          "base_uri": "https://localhost:8080/"
        },
        "id": "zSeh1OB-CkXg",
        "outputId": "24822d73-ed09-407e-e28f-532fbc531e4b"
      },
      "execution_count": null,
      "outputs": [
        {
          "output_type": "stream",
          "name": "stdout",
          "text": [
            "heres  :  here\n",
            "crazy  :  crazy\n",
            "ones  :  one\n",
            "misfits  :  misfit\n",
            "rebels  :  rebel\n",
            "troublemakers  :  troublemaker\n",
            "round  :  round\n",
            "pegs  :  peg\n",
            "square  :  square\n",
            "holes  :  hole\n",
            ".  :  .\n",
            "ones  :  one\n",
            "see  :  see\n",
            "things  :  thing\n",
            "differently  :  differently\n",
            "theyre  :  theyre\n",
            "fond  :  fond\n",
            "rules  :  rule\n",
            ".  :  .\n",
            "quote  :  quote\n",
            "disagree  :  disagree\n",
            "glorify  :  glorify\n",
            "vilify  :  vilify\n",
            "thing  :  thing\n",
            "cant  :  cant\n",
            "ignore  :  ignore\n",
            "change  :  change\n",
            "things  :  thing\n",
            ".  :  .\n",
            "push  :  push\n",
            "human  :  human\n",
            "race  :  race\n",
            "forward  :  forward\n",
            "may  :  may\n",
            "see  :  see\n",
            "crazy  :  crazy\n",
            "ones  :  one\n",
            "see  :  see\n",
            "genius  :  genius\n",
            "ones  :  one\n",
            "crazy  :  crazy\n",
            "enough  :  enough\n",
            "think  :  think\n",
            "change  :  change\n",
            "world  :  world\n",
            "ones  :  one\n",
            ".  :  .\n"
          ]
        }
      ]
    },
    {
      "cell_type": "markdown",
      "source": [
        "#POS Tagging"
      ],
      "metadata": {
        "id": "6YKBrDwhD2xK"
      }
    },
    {
      "cell_type": "code",
      "source": [
        "nltk.download('averaged_perceptron_tagger')"
      ],
      "metadata": {
        "colab": {
          "base_uri": "https://localhost:8080/"
        },
        "id": "fdNtG0OhEoe-",
        "outputId": "eaf0791f-1701-4aef-abce-d136016f9cd5"
      },
      "execution_count": null,
      "outputs": [
        {
          "output_type": "stream",
          "name": "stderr",
          "text": [
            "[nltk_data] Downloading package averaged_perceptron_tagger to\n",
            "[nltk_data]     /root/nltk_data...\n",
            "[nltk_data]   Package averaged_perceptron_tagger is already up-to-\n",
            "[nltk_data]       date!\n"
          ]
        },
        {
          "output_type": "execute_result",
          "data": {
            "text/plain": [
              "True"
            ]
          },
          "metadata": {},
          "execution_count": 268
        }
      ]
    },
    {
      "cell_type": "code",
      "source": [
        "for sentence in sent_tokenize(text):\n",
        "  word_list = nltk.word_tokenize(sentence)\n",
        "  word_list = [word for word in word_list if not word in stop_words]\n",
        "  pos_tagged = nltk.pos_tag(word_list)\n",
        "  print(pos_tagged)"
      ],
      "metadata": {
        "colab": {
          "base_uri": "https://localhost:8080/"
        },
        "id": "VL9OWK3rC2PO",
        "outputId": "153937a4-4000-40db-e2db-ae258133813f"
      },
      "execution_count": null,
      "outputs": [
        {
          "output_type": "stream",
          "name": "stdout",
          "text": [
            "[('Heres', 'NNS'), ('crazy', 'JJ'), ('ones', 'NNS'), ('misfits', 'NNS'), ('rebels', 'NNS'), ('troublemakers', 'NNS'), ('round', 'VBP'), ('pegs', 'NNS'), ('square', 'JJ'), ('holes', 'NNS'), ('.', '.')]\n",
            "[('The', 'DT'), ('ones', 'NNS'), ('see', 'VBP'), ('things', 'NNS'), ('differently', 'RB'), ('theyre', 'VBP'), ('fond', 'NN'), ('rules', 'NNS'), ('.', '.')]\n",
            "[('You', 'PRP'), ('quote', 'VBP'), ('disagree', 'JJ'), ('glorify', 'NN'), ('vilify', 'JJ'), ('thing', 'NN'), ('cant', 'NN'), ('ignore', 'NN'), ('change', 'NN'), ('things', 'NNS'), ('.', '.')]\n",
            "[('They', 'PRP'), ('push', 'VBP'), ('human', 'JJ'), ('race', 'NN'), ('forward', 'NN'), ('may', 'MD'), ('see', 'VB'), ('crazy', 'JJ'), ('ones', 'NNS'), ('see', 'VBP'), ('genius', 'JJ'), ('ones', 'NNS'), ('crazy', 'JJ'), ('enough', 'RB'), ('think', 'VBP'), ('change', 'JJ'), ('world', 'NN'), ('ones', 'NNS'), ('.', '.')]\n"
          ]
        }
      ]
    },
    {
      "cell_type": "markdown",
      "source": [
        "#TF-IDF Representation"
      ],
      "metadata": {
        "id": "UGxuv7UUg8Za"
      }
    },
    {
      "cell_type": "code",
      "source": [
        "import pandas as pd"
      ],
      "metadata": {
        "id": "M7PyH7lwEWl3"
      },
      "execution_count": null,
      "outputs": []
    },
    {
      "cell_type": "code",
      "source": [
        "def remove_stop_words(document):\n",
        "  tokenized_words = word_tokenize(document.lower())\n",
        "\n",
        "  filtered_text = []\n",
        "  for word in tokenized_words:\n",
        "    if word not in stop_words:\n",
        "      filtered_text.append(word)\n",
        "  \n",
        "  return filtered_text"
      ],
      "metadata": {
        "id": "hwXd1PlxhDG6"
      },
      "execution_count": null,
      "outputs": []
    },
    {
      "cell_type": "code",
      "source": [
        "def get_count_of_words(dic, doc):\n",
        "  for word in doc:\n",
        "    dic[word] += 1\n",
        "\n",
        "  return dic"
      ],
      "metadata": {
        "id": "_OEyyIN3rcjZ"
      },
      "execution_count": null,
      "outputs": []
    },
    {
      "cell_type": "code",
      "source": [
        "def get_TF(dic, doc):\n",
        "  tf_dict = {}\n",
        "  word_count = len(doc)\n",
        "  for word, count in dic.items():\n",
        "    tf_dict[word] = count / float(word_count)\n",
        "\n",
        "  return tf_dict"
      ],
      "metadata": {
        "id": "SqKcNrkKs4kR"
      },
      "execution_count": null,
      "outputs": []
    },
    {
      "cell_type": "code",
      "source": [
        "def get_IDF(documents):\n",
        "  import math\n",
        "  N = len(documents)\n",
        "  idf_dict = dict.fromkeys(documents[0].keys(), 0)\n",
        "  for document in documents:\n",
        "    for word,count in document.items():\n",
        "      if count > 0:\n",
        "        idf_dict[word] += 1\n",
        "\n",
        "  for word, count in idf_dict.items():\n",
        "    idf_dict[word] = math.log(N / float(count))\n",
        "  \n",
        "  return idf_dict"
      ],
      "metadata": {
        "id": "q5yELdJFvWOe"
      },
      "execution_count": null,
      "outputs": []
    },
    {
      "cell_type": "code",
      "source": [
        "def get_TF_IDF(tf, idf):\n",
        "  tf_idf = {}\n",
        "  for word, count in tf.items():\n",
        "    tf_idf[word] = count * idf[word]\n",
        "  \n",
        "  return tf_idf"
      ],
      "metadata": {
        "id": "qSu8iS5MxYPy"
      },
      "execution_count": null,
      "outputs": []
    },
    {
      "cell_type": "code",
      "source": [
        "document_a = \"The moon is Earth's only natural satellite\"\n",
        "document_b = \"The moon is beautiful and marvellous to look at\""
      ],
      "metadata": {
        "id": "sFieKt4ShMga"
      },
      "execution_count": null,
      "outputs": []
    },
    {
      "cell_type": "code",
      "source": [
        "filtered_doc_a = remove_stop_words(document_a)\n",
        "filtered_doc_b = remove_stop_words(document_b)"
      ],
      "metadata": {
        "id": "m8ay45PlpSlI"
      },
      "execution_count": null,
      "outputs": []
    },
    {
      "cell_type": "code",
      "source": [
        "unique_words = set(filtered_doc_a).union(set(filtered_doc_b))\n",
        "unique_words"
      ],
      "metadata": {
        "colab": {
          "base_uri": "https://localhost:8080/"
        },
        "id": "9OM_HNROppmV",
        "outputId": "f214dc6e-ae33-48f6-a190-f5e9d3aa69cb"
      },
      "execution_count": null,
      "outputs": [
        {
          "output_type": "execute_result",
          "data": {
            "text/plain": [
              "{\"'s\",\n",
              " 'beautiful',\n",
              " 'earth',\n",
              " 'look',\n",
              " 'marvellous',\n",
              " 'moon',\n",
              " 'natural',\n",
              " 'satellite'}"
            ]
          },
          "metadata": {},
          "execution_count": 278
        }
      ]
    },
    {
      "cell_type": "code",
      "source": [
        "count_of_words_a = get_count_of_words(dict.fromkeys(unique_words, 0), filtered_doc_a)\n",
        "count_of_words_b = get_count_of_words(dict.fromkeys(unique_words, 0), filtered_doc_b)"
      ],
      "metadata": {
        "id": "GjlR_IWVrEHL"
      },
      "execution_count": null,
      "outputs": []
    },
    {
      "cell_type": "code",
      "source": [
        "tf_a = get_TF(count_of_words_a, filtered_doc_a)\n",
        "tf_b = get_TF(count_of_words_b, filtered_doc_b)\n"
      ],
      "metadata": {
        "id": "kIoPZcN0p3p8"
      },
      "execution_count": null,
      "outputs": []
    },
    {
      "cell_type": "code",
      "source": [
        "idf = get_IDF([count_of_words_a, count_of_words_b])"
      ],
      "metadata": {
        "id": "X3b9QzJevQ5f"
      },
      "execution_count": null,
      "outputs": []
    },
    {
      "cell_type": "code",
      "source": [
        "idf"
      ],
      "metadata": {
        "colab": {
          "base_uri": "https://localhost:8080/"
        },
        "id": "yjuECq1bwUfW",
        "outputId": "9bdcaef8-656c-43e4-88ac-4aee7e89153d"
      },
      "execution_count": null,
      "outputs": [
        {
          "output_type": "execute_result",
          "data": {
            "text/plain": [
              "{'beautiful': 0.6931471805599453,\n",
              " 'earth': 0.6931471805599453,\n",
              " 'satellite': 0.6931471805599453,\n",
              " 'natural': 0.6931471805599453,\n",
              " 'moon': 0.0,\n",
              " 'look': 0.6931471805599453,\n",
              " 'marvellous': 0.6931471805599453,\n",
              " \"'s\": 0.6931471805599453}"
            ]
          },
          "metadata": {},
          "execution_count": 282
        }
      ]
    },
    {
      "cell_type": "code",
      "source": [
        "tf_idf_a = get_TF_IDF(tf_a, idf)\n",
        "tf_idf_b = get_TF_IDF(tf_b, idf)\n"
      ],
      "metadata": {
        "id": "0LnWpIxLxLbS"
      },
      "execution_count": null,
      "outputs": []
    },
    {
      "cell_type": "code",
      "source": [
        "tf_idf = pd.DataFrame([tf_idf_a, tf_idf_b])\n",
        "tf_idf"
      ],
      "metadata": {
        "colab": {
          "base_uri": "https://localhost:8080/",
          "height": 112
        },
        "id": "BEuj-amXyTHq",
        "outputId": "d0c2d86a-5334-4df2-87c4-19782cc8bf01"
      },
      "execution_count": null,
      "outputs": [
        {
          "output_type": "execute_result",
          "data": {
            "text/plain": [
              "   beautiful     earth  satellite   natural  moon      look  marvellous  \\\n",
              "0   0.000000  0.138629   0.138629  0.138629   0.0  0.000000    0.000000   \n",
              "1   0.173287  0.000000   0.000000  0.000000   0.0  0.173287    0.173287   \n",
              "\n",
              "         's  \n",
              "0  0.138629  \n",
              "1  0.000000  "
            ],
            "text/html": [
              "\n",
              "  <div id=\"df-119f41b7-0cd4-415a-88aa-5d9a73daa1f1\">\n",
              "    <div class=\"colab-df-container\">\n",
              "      <div>\n",
              "<style scoped>\n",
              "    .dataframe tbody tr th:only-of-type {\n",
              "        vertical-align: middle;\n",
              "    }\n",
              "\n",
              "    .dataframe tbody tr th {\n",
              "        vertical-align: top;\n",
              "    }\n",
              "\n",
              "    .dataframe thead th {\n",
              "        text-align: right;\n",
              "    }\n",
              "</style>\n",
              "<table border=\"1\" class=\"dataframe\">\n",
              "  <thead>\n",
              "    <tr style=\"text-align: right;\">\n",
              "      <th></th>\n",
              "      <th>beautiful</th>\n",
              "      <th>earth</th>\n",
              "      <th>satellite</th>\n",
              "      <th>natural</th>\n",
              "      <th>moon</th>\n",
              "      <th>look</th>\n",
              "      <th>marvellous</th>\n",
              "      <th>'s</th>\n",
              "    </tr>\n",
              "  </thead>\n",
              "  <tbody>\n",
              "    <tr>\n",
              "      <th>0</th>\n",
              "      <td>0.000000</td>\n",
              "      <td>0.138629</td>\n",
              "      <td>0.138629</td>\n",
              "      <td>0.138629</td>\n",
              "      <td>0.0</td>\n",
              "      <td>0.000000</td>\n",
              "      <td>0.000000</td>\n",
              "      <td>0.138629</td>\n",
              "    </tr>\n",
              "    <tr>\n",
              "      <th>1</th>\n",
              "      <td>0.173287</td>\n",
              "      <td>0.000000</td>\n",
              "      <td>0.000000</td>\n",
              "      <td>0.000000</td>\n",
              "      <td>0.0</td>\n",
              "      <td>0.173287</td>\n",
              "      <td>0.173287</td>\n",
              "      <td>0.000000</td>\n",
              "    </tr>\n",
              "  </tbody>\n",
              "</table>\n",
              "</div>\n",
              "      <button class=\"colab-df-convert\" onclick=\"convertToInteractive('df-119f41b7-0cd4-415a-88aa-5d9a73daa1f1')\"\n",
              "              title=\"Convert this dataframe to an interactive table.\"\n",
              "              style=\"display:none;\">\n",
              "        \n",
              "  <svg xmlns=\"http://www.w3.org/2000/svg\" height=\"24px\"viewBox=\"0 0 24 24\"\n",
              "       width=\"24px\">\n",
              "    <path d=\"M0 0h24v24H0V0z\" fill=\"none\"/>\n",
              "    <path d=\"M18.56 5.44l.94 2.06.94-2.06 2.06-.94-2.06-.94-.94-2.06-.94 2.06-2.06.94zm-11 1L8.5 8.5l.94-2.06 2.06-.94-2.06-.94L8.5 2.5l-.94 2.06-2.06.94zm10 10l.94 2.06.94-2.06 2.06-.94-2.06-.94-.94-2.06-.94 2.06-2.06.94z\"/><path d=\"M17.41 7.96l-1.37-1.37c-.4-.4-.92-.59-1.43-.59-.52 0-1.04.2-1.43.59L10.3 9.45l-7.72 7.72c-.78.78-.78 2.05 0 2.83L4 21.41c.39.39.9.59 1.41.59.51 0 1.02-.2 1.41-.59l7.78-7.78 2.81-2.81c.8-.78.8-2.07 0-2.86zM5.41 20L4 18.59l7.72-7.72 1.47 1.35L5.41 20z\"/>\n",
              "  </svg>\n",
              "      </button>\n",
              "      \n",
              "  <style>\n",
              "    .colab-df-container {\n",
              "      display:flex;\n",
              "      flex-wrap:wrap;\n",
              "      gap: 12px;\n",
              "    }\n",
              "\n",
              "    .colab-df-convert {\n",
              "      background-color: #E8F0FE;\n",
              "      border: none;\n",
              "      border-radius: 50%;\n",
              "      cursor: pointer;\n",
              "      display: none;\n",
              "      fill: #1967D2;\n",
              "      height: 32px;\n",
              "      padding: 0 0 0 0;\n",
              "      width: 32px;\n",
              "    }\n",
              "\n",
              "    .colab-df-convert:hover {\n",
              "      background-color: #E2EBFA;\n",
              "      box-shadow: 0px 1px 2px rgba(60, 64, 67, 0.3), 0px 1px 3px 1px rgba(60, 64, 67, 0.15);\n",
              "      fill: #174EA6;\n",
              "    }\n",
              "\n",
              "    [theme=dark] .colab-df-convert {\n",
              "      background-color: #3B4455;\n",
              "      fill: #D2E3FC;\n",
              "    }\n",
              "\n",
              "    [theme=dark] .colab-df-convert:hover {\n",
              "      background-color: #434B5C;\n",
              "      box-shadow: 0px 1px 3px 1px rgba(0, 0, 0, 0.15);\n",
              "      filter: drop-shadow(0px 1px 2px rgba(0, 0, 0, 0.3));\n",
              "      fill: #FFFFFF;\n",
              "    }\n",
              "  </style>\n",
              "\n",
              "      <script>\n",
              "        const buttonEl =\n",
              "          document.querySelector('#df-119f41b7-0cd4-415a-88aa-5d9a73daa1f1 button.colab-df-convert');\n",
              "        buttonEl.style.display =\n",
              "          google.colab.kernel.accessAllowed ? 'block' : 'none';\n",
              "\n",
              "        async function convertToInteractive(key) {\n",
              "          const element = document.querySelector('#df-119f41b7-0cd4-415a-88aa-5d9a73daa1f1');\n",
              "          const dataTable =\n",
              "            await google.colab.kernel.invokeFunction('convertToInteractive',\n",
              "                                                     [key], {});\n",
              "          if (!dataTable) return;\n",
              "\n",
              "          const docLinkHtml = 'Like what you see? Visit the ' +\n",
              "            '<a target=\"_blank\" href=https://colab.research.google.com/notebooks/data_table.ipynb>data table notebook</a>'\n",
              "            + ' to learn more about interactive tables.';\n",
              "          element.innerHTML = '';\n",
              "          dataTable['output_type'] = 'display_data';\n",
              "          await google.colab.output.renderOutput(dataTable, element);\n",
              "          const docLink = document.createElement('div');\n",
              "          docLink.innerHTML = docLinkHtml;\n",
              "          element.appendChild(docLink);\n",
              "        }\n",
              "      </script>\n",
              "    </div>\n",
              "  </div>\n",
              "  "
            ]
          },
          "metadata": {},
          "execution_count": 284
        }
      ]
    },
    {
      "cell_type": "code",
      "source": [],
      "metadata": {
        "id": "zWR_GkzXxNiF"
      },
      "execution_count": null,
      "outputs": []
    },
    {
      "cell_type": "code",
      "source": [],
      "metadata": {
        "id": "hsIA98eoxNvK"
      },
      "execution_count": null,
      "outputs": []
    }
  ]
}