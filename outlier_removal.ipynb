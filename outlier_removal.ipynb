{
  "nbformat": 4,
  "nbformat_minor": 0,
  "metadata": {
    "colab": {
      "provenance": []
    },
    "kernelspec": {
      "name": "python3",
      "display_name": "Python 3"
    },
    "language_info": {
      "name": "python"
    }
  },
  "cells": [
    {
      "cell_type": "code",
      "execution_count": null,
      "metadata": {
        "id": "WEeBnTPE__WM"
      },
      "outputs": [],
      "source": [
        "import seaborn as sns\n",
        "import numpy as np\n",
        "import matplotlib.pyplot as plt\n",
        "import random\n",
        "import array as arr\n",
        "%matplotlib inline"
      ]
    },
    {
      "cell_type": "code",
      "source": [
        "data = arr.array('i')\n",
        "for i in range(16):\n",
        "  rand_num = random.randint(10,20)\n",
        "  data.append(rand_num)\n",
        "\n",
        "#Adding Outliers\n",
        "data.append(random.randint(90,100))\n",
        "data.append(random.randint(90,100))\n",
        "\n",
        "data.append(random.randint(-100,-10))\n",
        "data.append(random.randint(-100,-10))\n",
        "\n",
        "\n",
        "data"
      ],
      "metadata": {
        "colab": {
          "base_uri": "https://localhost:8080/"
        },
        "id": "6eI6o1-EA93v",
        "outputId": "8be7f2fe-99ab-4dd1-f30c-b5fd6bb043df"
      },
      "execution_count": null,
      "outputs": [
        {
          "output_type": "execute_result",
          "data": {
            "text/plain": [
              "array('i', [11, 15, 13, 10, 18, 19, 19, 16, 13, 14, 14, 16, 20, 20, 11, 14, 91, 97, -96, -39])"
            ]
          },
          "metadata": {},
          "execution_count": 24
        }
      ]
    },
    {
      "cell_type": "code",
      "source": [
        "np.random.shuffle(data)\n",
        "data"
      ],
      "metadata": {
        "colab": {
          "base_uri": "https://localhost:8080/"
        },
        "id": "2IuCwfIXC9XZ",
        "outputId": "7588c44b-c037-4ab7-9000-048cb10e5e29"
      },
      "execution_count": null,
      "outputs": [
        {
          "output_type": "stream",
          "name": "stderr",
          "text": [
            "<ipython-input-25-646cf838c4ac>:1: UserWarning: you are shuffling a 'array' object which is not a subclass of 'Sequence'; `shuffle` is not guaranteed to behave correctly. E.g., non-numpy array/tensor objects with view semantics may contain duplicates after shuffling.\n",
            "  np.random.shuffle(data)\n"
          ]
        },
        {
          "output_type": "execute_result",
          "data": {
            "text/plain": [
              "array('i', [18, -39, -96, 13, 20, 16, 11, 19, 14, 11, 16, 19, 10, 14, 97, 15, 20, 14, 13, 91])"
            ]
          },
          "metadata": {},
          "execution_count": 25
        }
      ]
    },
    {
      "cell_type": "code",
      "source": [
        "data = np.sort(data)\n",
        "data"
      ],
      "metadata": {
        "colab": {
          "base_uri": "https://localhost:8080/"
        },
        "id": "XxAgeQmFDvbe",
        "outputId": "bd4f3d6a-a037-417d-c581-96aa5000f973"
      },
      "execution_count": null,
      "outputs": [
        {
          "output_type": "execute_result",
          "data": {
            "text/plain": [
              "array([-96, -39,  10,  11,  11,  13,  13,  14,  14,  14,  15,  16,  16,\n",
              "        18,  19,  19,  20,  20,  91,  97], dtype=int32)"
            ]
          },
          "metadata": {},
          "execution_count": 49
        }
      ]
    },
    {
      "cell_type": "code",
      "source": [
        "if len(data) % 2 == 0:\n",
        "  median_index = int(len(data) / 2)\n",
        "  median = (data[median_index] + data[median_index - 1]) / 2\n",
        "else:\n",
        "  median = data[round(len(data) / 2)]\n",
        "  \n",
        "median"
      ],
      "metadata": {
        "colab": {
          "base_uri": "https://localhost:8080/"
        },
        "id": "gXf4WgLzFBz6",
        "outputId": "c1e50b2e-4bd5-47f4-ab49-7e4a9c706278"
      },
      "execution_count": null,
      "outputs": [
        {
          "output_type": "execute_result",
          "data": {
            "text/plain": [
              "14.5"
            ]
          },
          "metadata": {},
          "execution_count": 50
        }
      ]
    },
    {
      "cell_type": "code",
      "source": [
        "Q1_index = round(len(data) * 0.25)\n",
        "Q1 = data[Q1_index]\n",
        "Q1"
      ],
      "metadata": {
        "colab": {
          "base_uri": "https://localhost:8080/"
        },
        "id": "GAdiRWf1Hmd2",
        "outputId": "9c23245a-82c0-4c68-89f9-672736f1c73e"
      },
      "execution_count": null,
      "outputs": [
        {
          "output_type": "execute_result",
          "data": {
            "text/plain": [
              "13"
            ]
          },
          "metadata": {},
          "execution_count": 54
        }
      ]
    },
    {
      "cell_type": "code",
      "source": [
        "Q3_index = round(len(data) * 0.75)\n",
        "Q3 = data[Q3_index]\n",
        "Q3"
      ],
      "metadata": {
        "colab": {
          "base_uri": "https://localhost:8080/"
        },
        "id": "EGFp_si3I1kl",
        "outputId": "465b124b-7c72-43d5-8a38-e91685e17833"
      },
      "execution_count": null,
      "outputs": [
        {
          "output_type": "execute_result",
          "data": {
            "text/plain": [
              "19"
            ]
          },
          "metadata": {},
          "execution_count": 55
        }
      ]
    },
    {
      "cell_type": "code",
      "source": [
        "IQR = Q3 - Q1"
      ],
      "metadata": {
        "id": "Xua8TKBmJFxe"
      },
      "execution_count": null,
      "outputs": []
    },
    {
      "cell_type": "code",
      "source": [
        "IQR"
      ],
      "metadata": {
        "colab": {
          "base_uri": "https://localhost:8080/"
        },
        "id": "3ZsbjM4wJlaq",
        "outputId": "1529287d-38bb-449c-acc2-b37d8f9d2ed5"
      },
      "execution_count": null,
      "outputs": [
        {
          "output_type": "execute_result",
          "data": {
            "text/plain": [
              "6"
            ]
          },
          "metadata": {},
          "execution_count": 57
        }
      ]
    },
    {
      "cell_type": "code",
      "source": [
        "lower_limit = Q1 - 1.5*IQR\n",
        "lower_limit"
      ],
      "metadata": {
        "colab": {
          "base_uri": "https://localhost:8080/"
        },
        "id": "1tkBAFVpJmob",
        "outputId": "759044ca-8084-46b6-b781-0299fa35094c"
      },
      "execution_count": null,
      "outputs": [
        {
          "output_type": "execute_result",
          "data": {
            "text/plain": [
              "4.0"
            ]
          },
          "metadata": {},
          "execution_count": 58
        }
      ]
    },
    {
      "cell_type": "code",
      "source": [
        "upper_limit = Q3 + 1.5*IQR\n",
        "upper_limit"
      ],
      "metadata": {
        "colab": {
          "base_uri": "https://localhost:8080/"
        },
        "id": "9lSTuQ4DJ5Ya",
        "outputId": "ed69d4f4-1d67-4336-9809-5f4e018f1ac1"
      },
      "execution_count": null,
      "outputs": [
        {
          "output_type": "execute_result",
          "data": {
            "text/plain": [
              "28.0"
            ]
          },
          "metadata": {},
          "execution_count": 60
        }
      ]
    },
    {
      "cell_type": "code",
      "source": [
        "lower_out = []\n",
        "upper_out = []\n",
        "new_data = []\n",
        "for element in data:\n",
        "  if element < lower_limit:\n",
        "    lower_out.append(element)\n",
        "  elif element > upper_limit:\n",
        "    upper_out.append(element)\n",
        "  else:\n",
        "    new_data.append(element)"
      ],
      "metadata": {
        "id": "EWNyzVBTKE3F"
      },
      "execution_count": null,
      "outputs": []
    },
    {
      "cell_type": "code",
      "source": [
        "print(\"Q1 : \", Q1, \"\\nQ3 : \", Q3, \"\\nIQR : \", IQR)\n"
      ],
      "metadata": {
        "colab": {
          "base_uri": "https://localhost:8080/"
        },
        "id": "q9NxAopZLB4_",
        "outputId": "68a99bc3-710c-4096-81cf-508ddb18b7d4"
      },
      "execution_count": null,
      "outputs": [
        {
          "output_type": "stream",
          "name": "stdout",
          "text": [
            "Q1 :  13 \n",
            "Q3 :  19 \n",
            "IQR :  6\n"
          ]
        }
      ]
    },
    {
      "cell_type": "code",
      "source": [
        "print('Data After Removing Outliers : ', new_data)"
      ],
      "metadata": {
        "colab": {
          "base_uri": "https://localhost:8080/"
        },
        "id": "SMb1yFyMKf1o",
        "outputId": "af00000c-42ae-4f30-db02-a9382656a48d"
      },
      "execution_count": null,
      "outputs": [
        {
          "output_type": "stream",
          "name": "stdout",
          "text": [
            "Data After Removing Outliers :  [10, 11, 11, 13, 13, 14, 14, 14, 15, 16, 16, 18, 19, 19, 20, 20]\n"
          ]
        }
      ]
    },
    {
      "cell_type": "code",
      "source": [
        "print('Lower Outliers ', lower_out)"
      ],
      "metadata": {
        "colab": {
          "base_uri": "https://localhost:8080/"
        },
        "id": "IsZu9lvDKmIn",
        "outputId": "d708ac62-b23f-4d2f-cf07-b7cb1bae93b0"
      },
      "execution_count": null,
      "outputs": [
        {
          "output_type": "execute_result",
          "data": {
            "text/plain": [
              "[-96, -39]"
            ]
          },
          "metadata": {},
          "execution_count": 64
        }
      ]
    },
    {
      "cell_type": "markdown",
      "source": [],
      "metadata": {
        "id": "M5GjkusxL20S"
      }
    },
    {
      "cell_type": "code",
      "source": [
        "print('Lower Outliers ', upper_out)"
      ],
      "metadata": {
        "colab": {
          "base_uri": "https://localhost:8080/"
        },
        "id": "3ZMYHuj4Ko-c",
        "outputId": "fc935f50-1b3a-4b86-abda-7a9804a163ae"
      },
      "execution_count": null,
      "outputs": [
        {
          "output_type": "stream",
          "name": "stdout",
          "text": [
            "Lower Outliers  [91, 97]\n"
          ]
        }
      ]
    },
    {
      "cell_type": "code",
      "source": [
        "sns.boxplot(x=data)"
      ],
      "metadata": {
        "colab": {
          "base_uri": "https://localhost:8080/",
          "height": 282
        },
        "id": "Td9709NWM4QK",
        "outputId": "8b734726-2b76-40a0-af67-695051776c71"
      },
      "execution_count": null,
      "outputs": [
        {
          "output_type": "execute_result",
          "data": {
            "text/plain": [
              "<AxesSubplot:>"
            ]
          },
          "metadata": {},
          "execution_count": 73
        },
        {
          "output_type": "display_data",
          "data": {
            "text/plain": [
              "<Figure size 432x288 with 1 Axes>"
            ],
            "image/png": "[encoded data removed]"
          },
          "metadata": {
            "needs_background": "light"
          }
        }
      ]
    },
    {
      "cell_type": "code",
      "source": [
        "sns.boxplot(x=new_data)"
      ],
      "metadata": {
        "colab": {
          "base_uri": "https://localhost:8080/",
          "height": 282
        },
        "id": "ikIzKYBvNDb0",
        "outputId": "761c010d-a3d7-427c-e8db-d68e4e784a5b"
      },
      "execution_count": null,
      "outputs": [
        {
          "output_type": "execute_result",
          "data": {
            "text/plain": [
              "<AxesSubplot:>"
            ]
          },
          "metadata": {},
          "execution_count": 74
        },
        {
          "output_type": "display_data",
          "data": {
            "text/plain": [
              "<Figure size 432x288 with 1 Axes>"
            ],
            "image/png": "[encoded data removed]"
          },
          "metadata": {
            "needs_background": "light"
          }
        }
      ]
    },
    {
      "cell_type": "code",
      "source": [],
      "metadata": {
        "id": "Ubcqec0ENIgX"
      },
      "execution_count": null,
      "outputs": []
    },
    {
      "cell_type": "markdown",
      "source": [],
      "metadata": {
        "id": "U0r_vAmPNmGj"
      }
    }
  ]
}